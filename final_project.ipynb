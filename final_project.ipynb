{
 "cells": [
  {
   "cell_type": "markdown",
   "metadata": {},
   "source": [
    "Markowitz Portfolio Optimization\n",
    "=================\n",
    "Final Project for CPSC 458 by Connor Durkin\n",
    "-----------------------------\n",
    "This project explores the use of a mean variance or Markowitz method of portfolio optimization. The goal is to employ this trading strategy for a portfolio of SPDR ETFs and track returns over historical data. More importantly, though, as this is a class in decision making, I have incporated the ability for the functions here to explain their motivations to a human being--hopefully in a palatable manner. Below are the function definitions and at the end of the notebook you will find an example of their use. These functions were written with default key values but the operations are general enough to apply this strategy to any selection of securities with return data available via yahoo finance. \n"
   ]
  },
  {
   "cell_type": "code",
   "execution_count": 206,
   "metadata": {
    "collapsed": true
   },
   "outputs": [],
   "source": [
    "%matplotlib inline\n",
    "import yahoo_finance\n",
    "from yahoo_finance import Share\n",
    "import numpy as np\n",
    "import pandas\n",
    "import pprint\n",
    "import matplotlib.pyplot as plt\n",
    "import datetime\n",
    "import cvxopt as opt\n",
    "from cvxopt import blas, solvers\n",
    "# We will do a lot of optimizations, \n",
    "# and don't want to see each step.\n",
    "solvers.options['show_progress'] = False"
   ]
  },
  {
   "cell_type": "markdown",
   "metadata": {},
   "source": [
    "getTimeSeries( ticker, start_date, end_date) \n",
    "--------------\n",
    "#### What it does:\n",
    "getTimeSeries() takes in a date range and a ticker and returns a timeseries of adjusted closing prices.\n",
    "#### Inputs:\n",
    "* *ticker*: a string indiciating the security for which the time series will be generated.\n",
    "* *start_date*: a string of the form 'YYYY-MM-DD' declaring the beginning of the historical window.\n",
    "* *end_date*: a string of the form 'YYYY-MM-DD' declaring the end of the historical window\n",
    "\n",
    "#### Returns:\n",
    "* *time_series*: a single column Pandas DataFrame containing the time series of adjusted close prices\n",
    "    for the indicated ticker.\n"
   ]
  },
  {
   "cell_type": "code",
   "execution_count": 4,
   "metadata": {
    "collapsed": true
   },
   "outputs": [],
   "source": [
    "def getTimeSeries( ticker, start_date='2012-01-01', end_date='2012-02-01'):\n",
    "    # yahoo_finance API to load list of dictionaries \n",
    "    obj = Share(ticker)\n",
    "    ts = obj.get_historical(start_date,end_date)\n",
    "    # yahoo_finance indexes most recent date first, reverse this\n",
    "    ts = list(reversed(ts))\n",
    "    # Convert date strings to python datetime objects for easier manipulation\n",
    "    dates = [datetime.datetime.strptime(ts[i]['Date'],'%Y-%m-%d').date() for i in range(len(ts))]\n",
    "    # Convert close price strings to floats for numerical manipulation\n",
    "    prices = [float(ts[i]['Adj_Close']) for i in range(len(ts))]\n",
    "    # Create DataFrame from the list produced - python will recognize as Series\n",
    "    time_series = pandas.DataFrame( prices, index = dates, columns = [ticker])\n",
    "    return time_series"
   ]
  },
  {
   "cell_type": "markdown",
   "metadata": {},
   "source": [
    "getMultTimeSeries( tickers, start_date, end_date) \n",
    "--------------\n",
    "#### What it does:\n",
    "getMultTimeSeries() takes in a list of tickers and a specified date range and returns a Pandas DataFrame containing timeseries of adjusted closing prices. \n",
    "#### Inputs:\n",
    "* *tickers*: a list of strings indicating which tickers to include. Defaults to these 9 SPDR ETFs: 'XLY','XLP','XLE','XLF','XLV','XLI','XLB','XLK','XLU'.\n",
    "* *start_date*: a string of the form 'YYYY-MM-DD' declaring the beginning of the historical window.\n",
    "* *end_date*: a string of the form 'YYYY-MM-DD' declaring the end of the historical window\n",
    "\n",
    "#### Returns:\n",
    "* *time_series_dataframe*: a dataframe of adjusted closing price timeseries over the specified date range for the specified group of tickers"
   ]
  },
  {
   "cell_type": "code",
   "execution_count": 5,
   "metadata": {
    "collapsed": false
   },
   "outputs": [],
   "source": [
    "def getMultTimeSeries( tickers = ['XLY','XLP','XLE','XLF','XLV','XLI','XLB','XLK','XLU'],\n",
    "                     start_date = '2012-01-01', end_date = '2012-02-01'):\n",
    "    # Initialize DataFrame\n",
    "    time_series_dataframe = pandas.DataFrame()\n",
    "    # Iterate over all tickers and append column to DataFrame\n",
    "    for ticker in tickers:\n",
    "        # Use helper function to get single column DataFrame\n",
    "        df = getTimeSeries( ticker, start_date, end_date)\n",
    "        # Concatanate on axis = 1\n",
    "        time_series_dataframe = pandas.concat([time_series_dataframe,df],axis = 1)\n",
    "    return time_series_dataframe    "
   ]
  },
  {
   "cell_type": "markdown",
   "metadata": {},
   "source": [
    "markowitzReturns( returns)\n",
    "-------------------------\n",
    "#### What it does:\n",
    "markowitzReturns() takes in a Pandas DataFrame (or any container which can be converted to a numpy matrix) of returns and uses mean-variance portfolio theory to return an optimally weighted portfolio. It does so by minimizing $\\omega^{T}\\Sigma\\omega -qR^{T}\\omega$ (the Markowitz mean - variance framework) for portfolio weights $\\omega$. Where $\\Sigma$ is the covariance matrix of the securities, $R$ is the expected return matrix and $q$ is the mean return vector of all securities. The optimization is performed using the CVXOPT package employing the use of the solvers.qp() quadratic programming method. This method minimizes $(1/2)x^{T}Px + q^{T}x$ subject to $Gx \\preceq h$ and $Ax = b$. It also utilizes CVXOPT's BLAS methods for performing linear algebra computations. Inspiration for this process was found in Dr. Thomas Starke, David Edwards and Dr. Thomas Wiecki's quantopian blog post located at: http://blog.quantopian.com/markowitz-portfolio-optimization-2/.\n",
    "\n",
    "#### Inputs:\n",
    "* *returns*: a Pandas DataFrame(or other container which can be converted to a numpy matrix). NOTE: the dataframe produced by getMultTimeSeries must be transposed (returns.T) for meaningful results. \n",
    "* *justify*: a True / False input determining whether to print a robust explanation of the choice for the portfolio shift. \n",
    "\n",
    "#### Returns:\n",
    "* *optimal_weights*: the weights of the optimal portfolio in array form.\n",
    "* *returns*: the returns of all portfolios calculated across the effecient frontier.\n",
    "* *risks*: list of risks of all portfolios calculated across the efficient frontier."
   ]
  },
  {
   "cell_type": "code",
   "execution_count": 248,
   "metadata": {
    "collapsed": false
   },
   "outputs": [],
   "source": [
    "def markowitzReturns( returns, tickers, explain = False):\n",
    "    n = len(returns)\n",
    "    returns_df = returns\n",
    "    returns = np.asmatrix(returns)\n",
    "    mus = [10**(5.0 * t/50 - 1.0) for t in range(50)]\n",
    "    # Convert to cvxopt matrices\n",
    "    Sigma = opt.matrix(np.cov(returns))\n",
    "    q = opt.matrix(np.mean(returns, axis=1))\n",
    "    # Create constraint matrices\n",
    "    G = -opt.matrix(np.eye(n))   # negative n x n identity matrix\n",
    "    h = opt.matrix(0.0, (n ,1))  # -I*w < 0 i.e. no shorts\n",
    "    A = opt.matrix(1.0, (1, n))  # A is all ones so A*w = w\n",
    "    b = opt.matrix(1.0)          # Dot product sums to 1 \n",
    "    # Calculate efficient frontier weights using quadratic programming\n",
    "    ports = [solvers.qp(mu*Sigma, -q, G, h, A, b)['x'] for mu in mus]\n",
    "    # Calculate risks and returns of frontier \n",
    "    returns = [blas.dot(q, x) for x in ports]\n",
    "    risks = [np.sqrt(blas.dot(x, Sigma*x)) for x in ports]\n",
    "    # Fit polynomial to frontier curve \n",
    "    m = np.polyfit(returns, risks, 2)\n",
    "    x = np.sqrt(m[2]/m[0])\n",
    "    # Calculate optimal portfolio weights\n",
    "    optimal_weights = solvers.qp(opt.matrix(x * Sigma), -q, G, h, A, b)['x']\n",
    "    optimal_return = blas.dot(q, optimal_weights)\n",
    "    optimal_risk = np.sqrt(blas.dot(optimal_weights, Sigma*optimal_weights))\n",
    "    # Method to justify this portfolio distribution if asked for \n",
    "    if( explain ):\n",
    "        date_text = \"\"\"\n",
    "--------------------------------------------------------------------------------------------------\n",
    "\n",
    "Using returns data from {0} to {1} a careful mean - variance analysis was performed. \n",
    "The analysis found a number of portfolios lying on the markowitz efficient frontier and they are \n",
    "found below. The analysis indicates that the optimal portfolio for the next trading day will have \n",
    "the following distribution:\n",
    "\"\"\"\n",
    "        print(date_text.format(returns_df.columns[0],returns_df.columns[len(returns_df.columns)-1]))\n",
    "        # Print optimal weights \n",
    "        weights = np.asarray(optimal_weights)\n",
    "        weights = [float(weights[i]) for i in range(len(weights))]\n",
    "        wts = dict(zip(tickers,weights))\n",
    "        pp = pprint.PrettyPrinter(indent=4)\n",
    "        for k in wts:\n",
    "            weight_text = \"\\t{0} : {1:.4f}%\"\n",
    "            print(weight_text.format(str(k),float(wts[k])*100))\n",
    "        returns_text = \"\"\"\n",
    "This portfolio distribution has an expected return of:\n",
    "        {0:.4f}%\"\"\"\n",
    "        print(returns_text.format(float(optimal_return)*100))\n",
    "        risk_text = \"\"\"\n",
    "And the associated risk (standard deviation) is:\n",
    "        {0:.4f}\"\"\"\n",
    "        print(risk_text.format(float(optimal_risk)))\n",
    "        break_text=\"\"\"\n",
    "--------------------------------------------------------------------------------------------------\n",
    "        \"\"\"\n",
    "        print(break_text)\n",
    "        plt.plot(risks, returns, 'b-o')\n",
    "        plt.title('Efficient Portfolios on {}'.format(returns_df.columns[len(returns_df.columns)-1]))\n",
    "        plt.ylabel('Returns (%)')\n",
    "        plt.xlabel('Risk (STD)')\n",
    "    return np.asarray(optimal_weights), returns, risks "
   ]
  },
  {
   "cell_type": "markdown",
   "metadata": {},
   "source": [
    "backtest( tickers, start_date, end_date, start, max_lookback, explain)\n",
    "----------\n",
    "#### What it does:\n",
    "backtest() applies the mean-variance portfolio optimization trading strategy to a list of stocks. It applies the markowitzReturns() method over a range of dates and tracks the portfolio movement and returns, outputting a DataFrame describing the portfolio over time, a DataFrame describing the returns over time and a total return amount. **Backtest does not take into account commission costs.** Running backtest(explain = True) produces the output below. The default dates were carefully selected so that just one explain instance would print. \n",
    "\n",
    "#### Inputs:\n",
    "* *tickers*: a list of strings indicating which tickers to include. Defaults to these 9 SPDR ETFs: 'XLY','XLP','XLE','XLF','XLV','XLI','XLB','XLK','XLU'.\n",
    "* *start_date*: a string of the form 'YYYY-MM-DD' declaring the beginning of the historical window.\n",
    "* *end_date*: a string of the form 'YYYY-MM-DD' declaring the end of the historical window\n",
    "* *start*: the minimum number of days to wait before beginning to trade (i.e. how much information is needed). Default is 10.\n",
    "* *max_lookback*: the maximum number of days to look back for data, i.e. the size of the input to markowitzReturns(). Default is 100.\n",
    "\n",
    "#### Returns:\n",
    "* *weights_df*: a pandas DataFrame containing the portfolio weights over time beginning with the start date + start$*$days.\n",
    "* *total_returns*: a pandas DataFrame containing the portfolio returns over time beginning with the start date + start$*$days.\n",
    "* *naive_return*: the total naive return (numpy float)."
   ]
  },
  {
   "cell_type": "code",
   "execution_count": 251,
   "metadata": {
    "collapsed": false,
    "scrolled": false
   },
   "outputs": [
    {
     "name": "stdout",
     "output_type": "stream",
     "text": [
      "\n",
      "--------------------------------------------------------------------------------------------------\n",
      "\n",
      "Using returns data from 2012-01-04 to 2012-01-19 a careful mean - variance analysis was performed. \n",
      "The analysis found a number of portfolios lying on the markowitz efficient frontier and they are \n",
      "found below. The analysis indicates that the optimal portfolio for the next trading day will have \n",
      "the following distribution:\n",
      "\n",
      "\tXLU : 0.0000%\n",
      "\tXLF : 0.0000%\n",
      "\tXLY : 0.0000%\n",
      "\tXLI : 0.0000%\n",
      "\tXLB : 99.9999%\n",
      "\tXLE : 0.0000%\n",
      "\tXLV : 0.0000%\n",
      "\tXLP : 0.0000%\n",
      "\tXLK : 0.0000%\n",
      "\n",
      "This portfolio distribution has an expected return of:\n",
      "        0.5945%\n",
      "\n",
      "And the associated risk (standard deviation) is:\n",
      "        0.0073\n",
      "\n",
      "--------------------------------------------------------------------------------------------------\n",
      "        \n"
     ]
    },
    {
     "data": {
      "image/png": "[encoded data removed]",
      "text/plain": [
       "<matplotlib.figure.Figure at 0x1072ba860>"
      ]
     },
     "metadata": {},
     "output_type": "display_data"
    }
   ],
   "source": [
    "def backtest( tickers = ['XLY','XLP','XLE','XLF','XLV','XLI','XLB','XLK','XLU'],\n",
    "             start_date = '2012-01-01', end_date = '2012-01-20', start = 10, max_lookback = 100,\n",
    "             explain = False):\n",
    "    timeseries = getMultTimeSeries( tickers, start_date, end_date)\n",
    "    returns = timeseries.pct_change().dropna()\n",
    "    weights_df = pandas.DataFrame()\n",
    "    for i in range(len(returns)):\n",
    "        if ( i > start ):\n",
    "            if( i < max_lookback ):\n",
    "                returns_window = returns[0:i]\n",
    "            else:\n",
    "                returns_window = returns[(i-max_lookback):i]\n",
    "            try:\n",
    "                if( explain ):\n",
    "                    weights, returns_window, risks = markowitzReturns(returns_window.T, tickers, explain = True)\n",
    "                else:\n",
    "                    weights, returns_window, risks = markowitzReturns(returns_window.T, tickers, explain = False)\n",
    "            except ValueError as e:\n",
    "                # Sometimes CVXOPT fails (infrequently)\n",
    "                # \"ValueError: Rank(A) < p or Rank([P; A; G]) < n\"\n",
    "                # In this case just do nothing (keep current weights)\n",
    "                weights, returns_window, risks = weights_prev, returns_window_prev, risks_prev\n",
    "            weights = [float(weights[i]) for i in range(len(weights))]\n",
    "            wts = dict(zip(tickers,weights))\n",
    "            df = pandas.DataFrame(wts, index = [returns.index[i]])\n",
    "            weights_df = pandas.concat([weights_df, df])\n",
    "            weights_prev, returns_window_prev, risks_prev = weights, returns_window, risks\n",
    "    total_returns = pandas.DataFrame(weights_df.values*returns[(start+1)::],\n",
    "                                     columns = returns.columns, index = returns.index)\n",
    "    naive_returns = [np.sum(total_returns[[i]]) for i in range(len(total_returns.columns))]\n",
    "    naive_return = np.sum(naive_returns)\n",
    "    return weights_df, total_returns.dropna(), naive_return\n",
    "weights, returns, naive_return = backtest(explain = True)"
   ]
  },
  {
   "cell_type": "markdown",
   "metadata": {},
   "source": [
    "analyzeResults()\n",
    "---------------"
   ]
  }
 ],
 "metadata": {
  "kernelspec": {
   "display_name": "Python 3",
   "language": "python",
   "name": "python3"
  },
  "language_info": {
   "codemirror_mode": {
    "name": "ipython",
    "version": 3
   },
   "file_extension": ".py",
   "mimetype": "text/x-python",
   "name": "python",
   "nbconvert_exporter": "python",
   "pygments_lexer": "ipython3",
   "version": "3.4.3"
  }
 },
 "nbformat": 4,
 "nbformat_minor": 0
}
