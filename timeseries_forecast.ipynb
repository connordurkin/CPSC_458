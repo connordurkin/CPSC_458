{
 "cells": [
  {
   "cell_type": "code",
   "execution_count": 142,
   "metadata": {
    "collapsed": true
   },
   "outputs": [],
   "source": [
    "%matplotlib inline\n",
    "import yahoo_finance\n",
    "from yahoo_finance import Share\n",
    "import numpy as np\n",
    "import pandas\n",
    "import matplotlib.pyplot as plt\n",
    "import datetime\n",
    "import cvxopt as opt\n",
    "from cvxopt import blas, solvers\n",
    "solvers.options['show_progress'] = False"
   ]
  },
  {
   "cell_type": "markdown",
   "metadata": {},
   "source": [
    "getTimeSeries( ticker, start_date, end_date) \n",
    "--------------\n",
    "#### What it does:\n",
    "getTimeSeries() takes in a date range and a ticker and returns a timeseries of adjusted closing prices.\n",
    "#### Inputs\n",
    "* *ticker*: a string indiciating the security for which the time series will be generated.\n",
    "* *start_date*: a string of the form 'YYYY-MM-DD' declaring the beginning of the historical window.\n",
    "* *end_date*: a string of the form 'YYYY-MM-DD' declaring the end of the historical window\n",
    "\n",
    "#### Returns\n",
    "* *time_series*: a single column Pandas DataFrame containing the time series of adjusted close prices\n",
    "    for the indicated ticker.\n"
   ]
  },
  {
   "cell_type": "code",
   "execution_count": 152,
   "metadata": {
    "collapsed": true
   },
   "outputs": [],
   "source": [
    "def getTimeSeries( ticker, start_date='2012-01-01', end_date='2012-02-01'):\n",
    "    # yahoo_finance API to load list of dictionaries \n",
    "    obj = Share(ticker)\n",
    "    ts = obj.get_historical(start_date,end_date)\n",
    "    # yahoo_finance indexes most recent date first, reverse this\n",
    "    ts = list(reversed(ts))\n",
    "    # Convert date strings to python datetime objects for easier manipulation\n",
    "    dates = [datetime.datetime.strptime(ts[i]['Date'],'%Y-%m-%d').date() for i in range(len(ts))]\n",
    "    # Convert close price strings to floats for numerical manipulation\n",
    "    prices = [float(ts[i]['Adj_Close']) for i in range(len(ts))]\n",
    "    # Create DataFrame from the list produced - python will recognize as Series\n",
    "    time_series = pandas.DataFrame( prices, index = dates, columns = [ticker])\n",
    "    return time_series"
   ]
  },
  {
   "cell_type": "markdown",
   "metadata": {},
   "source": [
    "getMultTimeSeries( tickers, start_date, end_date) \n",
    "--------------\n",
    "#### What it does:\n",
    "getMultTimeSeries() takes in a list of tickers and a specified date range and returns a Pandas DataFrame containing timeseries of adjusted closing prices. \n",
    "#### Inputs\n",
    "* *tickers*: a list of strings indicating which tickers to include. Defaults to these 9 SPDR ETFs: 'XLY','XLP','XLE','XLF','XLV','XLI','XLB','XLK','XLU'.\n",
    "* *start_date*: a string of the form 'YYYY-MM-DD' declaring the beginning of the historical window.\n",
    "* *end_date*: a string of the form 'YYYY-MM-DD' declaring the end of the historical window\n",
    "\n",
    "#### Returns\n",
    "* *time_series_dataframe*: a dataframe of adjusted closing price timeseries over the specified date range for the specified group of tickers"
   ]
  },
  {
   "cell_type": "code",
   "execution_count": 144,
   "metadata": {
    "collapsed": false
   },
   "outputs": [],
   "source": [
    "def getMultTimeSeries( tickers = ['XLY','XLP','XLE','XLF','XLV','XLI','XLB','XLK','XLU'],\n",
    "                     start_date = '2012-01-01', end_date = '2012-02-01'):\n",
    "    # Initialize DataFrame\n",
    "    time_series_dataframe = pandas.DataFrame()\n",
    "    # Iterate over all tickers and append column to DataFrame\n",
    "    for ticker in tickers:\n",
    "        # Use helper function to get single column DataFrame\n",
    "        df = getTimeSeries( ticker, start_date, end_date)\n",
    "        # Concatanate on axis = 1\n",
    "        time_series_dataframe = pandas.concat([time_series_dataframe,df],axis = 1)\n",
    "    return time_series_dataframe    "
   ]
  },
  {
   "cell_type": "markdown",
   "metadata": {},
   "source": [
    "markowitzReturns( returns)\n",
    "-------------------------\n",
    "#### What it does\n",
    "markowitzReturns() takes in a Pandas DataFrame (or any container which can be converted to a numpy matrix) of returns and uses mean-variance portfolio theory to return an optimally weighted portfolio. It does so by minimizing $\\omega^{T}\\Sigma\\omega -qR^{T}\\omega$ (the Markowitz mean - variance framework) for portfolio weights $\\omega$. Where $\\Sigma$ is the covariance matrix of the securities, $R$ is the expected return matrix and $q$ is the mean return vector of all securities. The optimization is performed using the CVXOPT package employing the use of the solvers.qp() quadratic programming method. This method minimizes $(1/2)x^{T}Px + q^{T}x$ subject to $Gx \\preceq h$ and $Ax = b$. It also utilizes CVXOPT's BLAS methods for performing linear algebra computations. Inspiration for this process was found in Dr. Thomas Starke, David Edwards and Dr. Thomas Wiecki's quantopian blog post located at: http://blog.quantopian.com/markowitz-portfolio-optimization-2/.\n",
    "\n",
    "#### Inputs\n",
    "* *returns*: a Pandas DataFrame(or other container which can be converted to a numpy matrix). NOTE: the dataframe produced by getMultTimeSeries must be transposed (returns.T) for meaningful results. \n",
    "\n",
    "#### Returns:\n",
    "* *optimal_weights*: the weights of the optimal portfolio in array form.\n",
    "* *returns*: the returns of all portfolios calculated across the effecient frontier.\n",
    "* *risks*: list of risks of all portfolios calculated across the efficient frontier."
   ]
  },
  {
   "cell_type": "code",
   "execution_count": 145,
   "metadata": {
    "collapsed": false
   },
   "outputs": [],
   "source": [
    "def markowitzReturns( returns):\n",
    "    n = len(returns)\n",
    "    returns = np.asmatrix(returns)\n",
    "    mus = [10**(5.0 * t/50 - 1.0) for t in range(50)]\n",
    "    # Convert to cvxopt matrices\n",
    "    Sigma = opt.matrix(np.cov(returns))\n",
    "    q = opt.matrix(np.mean(returns, axis=1))\n",
    "    # Create constraint matrices\n",
    "    G = -opt.matrix(np.eye(n))   # negative n x n identity matrix\n",
    "    h = opt.matrix(0.0, (n ,1))  # -I*w < 0 i.e. no shorts\n",
    "    A = opt.matrix(1.0, (1, n))  # A is all ones so A*w = w\n",
    "    b = opt.matrix(1.0)          # Dot product sums to 1 \n",
    "    # Calculate efficient frontier weights using quadratic programming\n",
    "    ports = [solvers.qp(mu*Sigma, -q, G, h, A, b)['x'] for mu in mus]\n",
    "    # Calculate risks and returns of frontier \n",
    "    returns = [blas.dot(q, x) for x in ports]\n",
    "    risks = [np.sqrt(blas.dot(x, Sigma*x)) for x in ports]\n",
    "    # Fit polynomial to frontier curve \n",
    "    m = np.polyfit(returns, risks, 2)\n",
    "    x = np.sqrt(m[2]/m[0])\n",
    "    # Calculate optimal portfolio weights\n",
    "    optimal_weights = np.asarray(solvers.qp(opt.matrix(x * Sigma), -q, G, h, A, b)['x'])\n",
    "    return optimal_weights, returns, risks"
   ]
  },
  {
   "cell_type": "markdown",
   "metadata": {},
   "source": [
    "backtest()\n",
    "----------"
   ]
  },
  {
   "cell_type": "code",
   "execution_count": 156,
   "metadata": {
    "collapsed": false
   },
   "outputs": [],
   "source": [
    "def backtest( tickers = ['XLY','XLP','XLE','XLF','XLV','XLI','XLB','XLK','XLU'],\n",
    "             start_date = '2012-01-01', end_date = '2012-02-01', lookback = 10,\n",
    "             justify = False):\n",
    "    timeseries = getMultTimeSeries( tickers, start_date, end_date)\n",
    "    returns = timeseries.pct_change().dropna()\n",
    "    for i in range(len(returns)):\n",
    "        print(i)\n",
    "        if ( i > lookback ):\n",
    "            returns_window = returns[(i-lookback):i]\n",
    "            weights, returns_window, risks = markowitzReturns(returns_window)\n",
    "            print(weights)\n",
    "    return    "
   ]
  }
 ],
 "metadata": {
  "kernelspec": {
   "display_name": "Python 3",
   "language": "python",
   "name": "python3"
  },
  "language_info": {
   "codemirror_mode": {
    "name": "ipython",
    "version": 3
   },
   "file_extension": ".py",
   "mimetype": "text/x-python",
   "name": "python",
   "nbconvert_exporter": "python",
   "pygments_lexer": "ipython3",
   "version": "3.4.3"
  }
 },
 "nbformat": 4,
 "nbformat_minor": 0
}
